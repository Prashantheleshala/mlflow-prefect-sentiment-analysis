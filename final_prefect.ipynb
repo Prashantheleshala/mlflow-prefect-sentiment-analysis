{
 "cells": [
  {
   "cell_type": "markdown",
   "id": "f075f3ab",
   "metadata": {},
   "source": [
    "# Prefect Workflow\n"
   ]
  },
  {
   "cell_type": "code",
   "execution_count": 12,
   "id": "8d39e28b",
   "metadata": {},
   "outputs": [],
   "source": [
    "import pandas as pd\n",
    "\n",
    "from sklearn.model_selection import train_test_split\n",
    "from sklearn.feature_extraction.text import CountVectorizer\n",
    "from sklearn.naive_bayes import MultinomialNB\n",
    "from sklearn.metrics import accuracy_score\n",
    "\n",
    "import re\n",
    "\n",
    "from prefect import task, Flow\n",
    "\n",
    "import nltk\n",
    "from nltk.tokenize import word_tokenize\n",
    "from nltk.corpus import stopwords\n",
    "from nltk.stem import PorterStemmer\n",
    "from nltk.stem import WordNetLemmatizer\n",
    "\n",
    "stem = PorterStemmer()\n",
    "lemma = WordNetLemmatizer()"
   ]
  },
  {
   "cell_type": "markdown",
   "id": "6973b387",
   "metadata": {},
   "source": [
    "# Loading the data using the below function:"
   ]
  },
  {
   "cell_type": "code",
   "execution_count": 13,
   "id": "ce9e0040",
   "metadata": {},
   "outputs": [],
   "source": [
    "def load_data(file_path):\n",
    "    \"\"\"\n",
    "    Load data from a CSV file.\n",
    "    \"\"\"\n",
    "    df = pd.read_csv(file_path)\n",
    "    df['label'] = df['Ratings'].apply(lambda x: 'negative' if x <= 2 else 'positive')\n",
    "    return df"
   ]
  },
  {
   "cell_type": "markdown",
   "id": "33defe24",
   "metadata": {},
   "source": [
    "# Function to Identify Input and Output variables"
   ]
  },
  {
   "cell_type": "code",
   "execution_count": 14,
   "id": "57726e23",
   "metadata": {},
   "outputs": [],
   "source": [
    "def split_inputs_output(data, inputs, output):\n",
    "    \"\"\"\n",
    "    Split features and target variables.\n",
    "    \"\"\"\n",
    "    X = data[inputs]\n",
    "    y = data[output]\n",
    "    return X, y"
   ]
  },
  {
   "cell_type": "markdown",
   "id": "9f08cbb9",
   "metadata": {},
   "source": [
    "# Train-Test Split"
   ]
  },
  {
   "cell_type": "code",
   "execution_count": 15,
   "id": "d93f004f",
   "metadata": {},
   "outputs": [],
   "source": [
    "def split_train_test(X, y, test_size=0.25, random_state=0):\n",
    "    \"\"\"\n",
    "    Split data into train and test sets.\n",
    "    \"\"\"\n",
    "    return train_test_split(X, y, test_size=test_size, random_state=random_state)"
   ]
  },
  {
   "cell_type": "markdown",
   "id": "e85da4ad",
   "metadata": {},
   "source": [
    "# CountVectorizer"
   ]
  },
  {
   "cell_type": "code",
   "execution_count": 16,
   "id": "7626daf6",
   "metadata": {},
   "outputs": [],
   "source": [
    "def preprocess_data(X_train, X_test):\n",
    "    \"\"\"\n",
    "    Preprocess the text data and transform it into numerical using CountVectorizer.\n",
    "    \"\"\"\n",
    "    def preprocess_text(text):\n",
    "        if isinstance(text, str):\n",
    "            # removes special characters\n",
    "            text = re.sub(\"[^a-zA-Z]\",\" \", text)\n",
    "            \n",
    "            # converts words to lowercase\n",
    "            text = text.lower()\n",
    "            \n",
    "            # tokenization\n",
    "            text = text.split()\n",
    "            \n",
    "            # removes the stop words\n",
    "            text = [word for word in text if word not in stopwords.words('english')]\n",
    "            \n",
    "            # applying lemmatization\n",
    "            text = [lemma.lemmatize(word) for word in text]\n",
    "            \n",
    "            return \" \".join(text)\n",
    "        else:\n",
    "            return \"\"  # Replace non-string values with an empty string\n",
    "    \n",
    "    # Preprocess training data\n",
    "    X_train_preprocessed = [preprocess_text(text) for text in X_train]\n",
    "    \n",
    "    # Preprocess testing data\n",
    "    X_test_preprocessed = [preprocess_text(text) for text in X_test]\n",
    "    \n",
    "    # Transform text data into numerical using CountVectorizer\n",
    "    cv = CountVectorizer()\n",
    "    X_train_vectorized = cv.fit_transform(X_train_preprocessed)\n",
    "    X_test_vectorized = cv.transform(X_test_preprocessed)\n",
    "    \n",
    "    return X_train_vectorized, X_test_vectorized"
   ]
  },
  {
   "cell_type": "code",
   "execution_count": 17,
   "id": "2f9616fe",
   "metadata": {},
   "outputs": [],
   "source": [
    "def train_model(X_train_vectorized, y_train):\n",
    "    \"\"\"\n",
    "    Train the machine learning model.\n",
    "    \"\"\"\n",
    "    nv_model =  MultinomialNB()\n",
    "    nv_model.fit(X_train_vectorized, y_train)\n",
    "    return nv_model"
   ]
  },
  {
   "cell_type": "code",
   "execution_count": 18,
   "id": "2b9acbb3",
   "metadata": {},
   "outputs": [],
   "source": [
    "def evaluate_model(model, X_train_vectorized, y_train,X_test_vectorized , y_test):\n",
    "    \"\"\"\n",
    "    Evaluating the model.\n",
    "    \n",
    "    \"\"\"\n",
    "    from sklearn import metrics\n",
    "    y_train_pred = model.predict(X_train_vectorized)\n",
    "    y_test_pred = model.predict(X_test_vectorized)\n",
    "\n",
    "    train_score = metrics.accuracy_score(y_train, y_train_pred)\n",
    "    test_score = metrics.accuracy_score(y_test, y_test_pred)\n",
    "    \n",
    "    return train_score, test_score"
   ]
  },
  {
   "cell_type": "code",
   "execution_count": 19,
   "id": "c4276320",
   "metadata": {},
   "outputs": [],
   "source": [
    "def workflow(data_path):\n",
    "    DATA_PATH = \"data.csv\"\n",
    "\n",
    "    # Load data\n",
    "    df = load_data(DATA_PATH)\n",
    "    \n",
    "    # Identify Inputs and Output\n",
    "    X, y = split_inputs_output(df, \"Review text\", \"label\")\n",
    "\n",
    "    # Split data into train and test sets\n",
    "    X_train, X_test, y_train, y_test = split_train_test(X, y)\n",
    "\n",
    "    # Preprocess the data and transform it into numerical using CountVectorizer\n",
    "    X_train_vectorized, X_test_vectorized = preprocess_data(X_train, X_test)\n",
    "    \n",
    "    # Build a model\n",
    "    model = train_model(X_train_vectorized, y_train)\n",
    "    \n",
    "    # Evaluation\n",
    "    train_score, test_score = evaluate_model(model, X_train_vectorized, y_train, X_test_vectorized, y_test)\n",
    "    \n",
    "    print(\"Train Score:\", train_score)\n",
    "    print(\"Test Score:\", test_score)"
   ]
  },
  {
   "cell_type": "code",
   "execution_count": 20,
   "id": "35b3fb8c",
   "metadata": {},
   "outputs": [
    {
     "name": "stdout",
     "output_type": "stream",
     "text": [
      "Train Score: 0.9365998747651847\n",
      "Test Score: 0.9183098591549296\n"
     ]
    }
   ],
   "source": [
    "if __name__ == \"__main__\":\n",
    "    workflow(data_path=\"data.csv\")"
   ]
  },
  {
   "cell_type": "markdown",
   "id": "3d9a3076",
   "metadata": {},
   "source": [
    "## Building  Prefect Workflow\n"
   ]
  },
  {
   "cell_type": "code",
   "execution_count": 21,
   "id": "5bcc5622",
   "metadata": {},
   "outputs": [
    {
     "name": "stdout",
     "output_type": "stream",
     "text": [
      "Requirement already satisfied: prefect in /Users/prashantheleshala/anaconda3/lib/python3.11/site-packages (2.16.6)\n",
      "Requirement already satisfied: aiosqlite>=0.17.0 in /Users/prashantheleshala/anaconda3/lib/python3.11/site-packages (from prefect) (0.18.0)\n",
      "Requirement already satisfied: alembic<2.0.0,>=1.7.5 in /Users/prashantheleshala/anaconda3/lib/python3.11/site-packages (from prefect) (1.13.1)\n",
      "Requirement already satisfied: apprise<2.0.0,>=1.1.0 in /Users/prashantheleshala/anaconda3/lib/python3.11/site-packages (from prefect) (1.7.4)\n",
      "Requirement already satisfied: asyncpg>=0.23 in /Users/prashantheleshala/anaconda3/lib/python3.11/site-packages (from prefect) (0.29.0)\n",
      "Requirement already satisfied: click<8.2,>=8.0 in /Users/prashantheleshala/anaconda3/lib/python3.11/site-packages (from prefect) (8.0.4)\n",
      "Requirement already satisfied: cryptography>=36.0.1 in /Users/prashantheleshala/anaconda3/lib/python3.11/site-packages (from prefect) (41.0.2)\n",
      "Requirement already satisfied: dateparser<2.0.0,>=1.1.1 in /Users/prashantheleshala/anaconda3/lib/python3.11/site-packages (from prefect) (1.2.0)\n",
      "Requirement already satisfied: docker<7.0,>=4.0 in /Users/prashantheleshala/anaconda3/lib/python3.11/site-packages (from prefect) (6.1.3)\n",
      "Requirement already satisfied: graphviz>=0.20.1 in /Users/prashantheleshala/anaconda3/lib/python3.11/site-packages (from prefect) (0.20.1)\n",
      "Requirement already satisfied: griffe>=0.20.0 in /Users/prashantheleshala/anaconda3/lib/python3.11/site-packages (from prefect) (0.42.1)\n",
      "Requirement already satisfied: jinja2<4.0.0,>=3.0.0 in /Users/prashantheleshala/anaconda3/lib/python3.11/site-packages (from prefect) (3.1.2)\n",
      "Requirement already satisfied: kubernetes<30.0.0,>=24.2.0 in /Users/prashantheleshala/anaconda3/lib/python3.11/site-packages (from prefect) (29.0.0)\n",
      "Requirement already satisfied: pytz<2025,>=2021.1 in /Users/prashantheleshala/anaconda3/lib/python3.11/site-packages (from prefect) (2022.7)\n",
      "Requirement already satisfied: readchar<5.0.0,>=4.0.0 in /Users/prashantheleshala/anaconda3/lib/python3.11/site-packages (from prefect) (4.0.6)\n",
      "Requirement already satisfied: sqlalchemy[asyncio]!=1.4.33,<3.0.0,>=1.4.22 in /Users/prashantheleshala/anaconda3/lib/python3.11/site-packages (from prefect) (1.4.39)\n",
      "Requirement already satisfied: typer>=0.4.2 in /Users/prashantheleshala/anaconda3/lib/python3.11/site-packages (from prefect) (0.11.0)\n",
      "Requirement already satisfied: anyio<4.0.0,>=3.7.1 in /Users/prashantheleshala/anaconda3/lib/python3.11/site-packages (from prefect) (3.7.1)\n",
      "Requirement already satisfied: asgi-lifespan<3.0,>=1.0 in /Users/prashantheleshala/anaconda3/lib/python3.11/site-packages (from prefect) (2.1.0)\n",
      "Requirement already satisfied: cachetools<6.0,>=5.3 in /Users/prashantheleshala/anaconda3/lib/python3.11/site-packages (from prefect) (5.3.1)\n",
      "Requirement already satisfied: cloudpickle<4.0,>=2.0 in /Users/prashantheleshala/anaconda3/lib/python3.11/site-packages (from prefect) (2.2.1)\n",
      "Requirement already satisfied: coolname<3.0.0,>=1.0.4 in /Users/prashantheleshala/anaconda3/lib/python3.11/site-packages (from prefect) (2.2.0)\n",
      "Requirement already satisfied: croniter<3.0.0,>=1.0.12 in /Users/prashantheleshala/anaconda3/lib/python3.11/site-packages (from prefect) (2.0.3)\n",
      "Requirement already satisfied: fsspec>=2022.5.0 in /Users/prashantheleshala/anaconda3/lib/python3.11/site-packages (from prefect) (2023.4.0)\n",
      "Requirement already satisfied: httpcore<2.0.0,>=0.15.0 in /Users/prashantheleshala/anaconda3/lib/python3.11/site-packages (from prefect) (1.0.4)\n",
      "Requirement already satisfied: httpx[http2]!=0.23.2,>=0.23 in /Users/prashantheleshala/anaconda3/lib/python3.11/site-packages (from prefect) (0.27.0)\n",
      "Requirement already satisfied: importlib-resources<6.2.0,>=6.1.3 in /Users/prashantheleshala/anaconda3/lib/python3.11/site-packages (from prefect) (6.1.3)\n",
      "Requirement already satisfied: jsonpatch<2.0,>=1.32 in /Users/prashantheleshala/anaconda3/lib/python3.11/site-packages (from prefect) (1.32)\n",
      "Requirement already satisfied: jsonschema<5.0.0,>=3.2.0 in /Users/prashantheleshala/anaconda3/lib/python3.11/site-packages (from prefect) (4.17.3)\n",
      "Requirement already satisfied: orjson<4.0,>=3.7 in /Users/prashantheleshala/anaconda3/lib/python3.11/site-packages (from prefect) (3.9.15)\n",
      "Requirement already satisfied: packaging<24.3,>=21.3 in /Users/prashantheleshala/anaconda3/lib/python3.11/site-packages (from prefect) (23.0)\n",
      "Requirement already satisfied: pathspec>=0.8.0 in /Users/prashantheleshala/anaconda3/lib/python3.11/site-packages (from prefect) (0.10.3)\n",
      "Requirement already satisfied: pydantic[email]!=2.0.0,!=2.0.1,!=2.1.0,<3.0.0,>=1.10.0 in /Users/prashantheleshala/anaconda3/lib/python3.11/site-packages (from prefect) (2.6.4)\n",
      "Requirement already satisfied: python-dateutil<3.0.0,>=2.8.2 in /Users/prashantheleshala/anaconda3/lib/python3.11/site-packages (from prefect) (2.8.2)\n",
      "Requirement already satisfied: python-slugify<9.0,>=5.0 in /Users/prashantheleshala/anaconda3/lib/python3.11/site-packages (from prefect) (5.0.2)\n",
      "Requirement already satisfied: pyyaml<7.0.0,>=5.4.1 in /Users/prashantheleshala/anaconda3/lib/python3.11/site-packages (from prefect) (6.0)\n",
      "Requirement already satisfied: rfc3339-validator<0.2.0,>=0.1.4 in /Users/prashantheleshala/anaconda3/lib/python3.11/site-packages (from prefect) (0.1.4)\n",
      "Requirement already satisfied: rich<14.0,>=11.0 in /Users/prashantheleshala/anaconda3/lib/python3.11/site-packages (from prefect) (13.7.1)\n",
      "Requirement already satisfied: ruamel.yaml>=0.17.0 in /Users/prashantheleshala/anaconda3/lib/python3.11/site-packages (from prefect) (0.17.21)\n",
      "Requirement already satisfied: sniffio<2.0.0,>=1.3.0 in /Users/prashantheleshala/anaconda3/lib/python3.11/site-packages (from prefect) (1.3.1)\n",
      "Requirement already satisfied: toml>=0.10.0 in /Users/prashantheleshala/anaconda3/lib/python3.11/site-packages (from prefect) (0.10.2)\n",
      "Requirement already satisfied: typing-extensions<5.0.0,>=4.5.0 in /Users/prashantheleshala/anaconda3/lib/python3.11/site-packages (from prefect) (4.7.1)\n",
      "Requirement already satisfied: ujson<6.0.0,>=5.8.0 in /Users/prashantheleshala/anaconda3/lib/python3.11/site-packages (from prefect) (5.9.0)\n",
      "Requirement already satisfied: uvicorn>=0.14.0 in /Users/prashantheleshala/anaconda3/lib/python3.11/site-packages (from prefect) (0.29.0)\n",
      "Requirement already satisfied: websockets<13.0,>=10.4 in /Users/prashantheleshala/anaconda3/lib/python3.11/site-packages (from prefect) (12.0)\n",
      "Requirement already satisfied: itsdangerous in /Users/prashantheleshala/anaconda3/lib/python3.11/site-packages (from prefect) (2.0.1)\n",
      "Requirement already satisfied: python-multipart>=0.0.7 in /Users/prashantheleshala/anaconda3/lib/python3.11/site-packages (from prefect) (0.0.9)\n",
      "Requirement already satisfied: pendulum<3.0 in /Users/prashantheleshala/anaconda3/lib/python3.11/site-packages (from prefect) (2.1.2)\n",
      "Requirement already satisfied: Mako in /Users/prashantheleshala/anaconda3/lib/python3.11/site-packages (from alembic<2.0.0,>=1.7.5->prefect) (1.3.2)\n",
      "Requirement already satisfied: idna>=2.8 in /Users/prashantheleshala/anaconda3/lib/python3.11/site-packages (from anyio<4.0.0,>=3.7.1->prefect) (3.4)\n",
      "Requirement already satisfied: certifi in /Users/prashantheleshala/anaconda3/lib/python3.11/site-packages (from apprise<2.0.0,>=1.1.0->prefect) (2023.7.22)\n",
      "Requirement already satisfied: requests in /Users/prashantheleshala/anaconda3/lib/python3.11/site-packages (from apprise<2.0.0,>=1.1.0->prefect) (2.31.0)\n",
      "Requirement already satisfied: requests-oauthlib in /Users/prashantheleshala/anaconda3/lib/python3.11/site-packages (from apprise<2.0.0,>=1.1.0->prefect) (1.3.1)\n",
      "Requirement already satisfied: markdown in /Users/prashantheleshala/anaconda3/lib/python3.11/site-packages (from apprise<2.0.0,>=1.1.0->prefect) (3.4.1)\n",
      "Requirement already satisfied: async-timeout>=4.0.3 in /Users/prashantheleshala/anaconda3/lib/python3.11/site-packages (from asyncpg>=0.23->prefect) (4.0.3)\n",
      "Requirement already satisfied: cffi>=1.12 in /Users/prashantheleshala/anaconda3/lib/python3.11/site-packages (from cryptography>=36.0.1->prefect) (1.15.1)\n",
      "Requirement already satisfied: regex!=2019.02.19,!=2021.8.27 in /Users/prashantheleshala/anaconda3/lib/python3.11/site-packages (from dateparser<2.0.0,>=1.1.1->prefect) (2022.7.9)\n",
      "Requirement already satisfied: tzlocal in /Users/prashantheleshala/anaconda3/lib/python3.11/site-packages (from dateparser<2.0.0,>=1.1.1->prefect) (5.2)\n",
      "Requirement already satisfied: urllib3>=1.26.0 in /Users/prashantheleshala/anaconda3/lib/python3.11/site-packages (from docker<7.0,>=4.0->prefect) (1.26.16)\n",
      "Requirement already satisfied: websocket-client>=0.32.0 in /Users/prashantheleshala/anaconda3/lib/python3.11/site-packages (from docker<7.0,>=4.0->prefect) (0.58.0)\n"
     ]
    },
    {
     "name": "stdout",
     "output_type": "stream",
     "text": [
      "Requirement already satisfied: colorama>=0.4 in /Users/prashantheleshala/anaconda3/lib/python3.11/site-packages (from griffe>=0.20.0->prefect) (0.4.6)\n",
      "Requirement already satisfied: h11<0.15,>=0.13 in /Users/prashantheleshala/anaconda3/lib/python3.11/site-packages (from httpcore<2.0.0,>=0.15.0->prefect) (0.14.0)\n",
      "Requirement already satisfied: h2<5,>=3 in /Users/prashantheleshala/anaconda3/lib/python3.11/site-packages (from httpx[http2]!=0.23.2,>=0.23->prefect) (4.1.0)\n",
      "Requirement already satisfied: MarkupSafe>=2.0 in /Users/prashantheleshala/anaconda3/lib/python3.11/site-packages (from jinja2<4.0.0,>=3.0.0->prefect) (2.1.1)\n",
      "Requirement already satisfied: jsonpointer>=1.9 in /Users/prashantheleshala/anaconda3/lib/python3.11/site-packages (from jsonpatch<2.0,>=1.32->prefect) (2.1)\n",
      "Requirement already satisfied: attrs>=17.4.0 in /Users/prashantheleshala/anaconda3/lib/python3.11/site-packages (from jsonschema<5.0.0,>=3.2.0->prefect) (22.1.0)\n",
      "Requirement already satisfied: pyrsistent!=0.17.0,!=0.17.1,!=0.17.2,>=0.14.0 in /Users/prashantheleshala/anaconda3/lib/python3.11/site-packages (from jsonschema<5.0.0,>=3.2.0->prefect) (0.18.0)\n",
      "Requirement already satisfied: six>=1.9.0 in /Users/prashantheleshala/anaconda3/lib/python3.11/site-packages (from kubernetes<30.0.0,>=24.2.0->prefect) (1.16.0)\n",
      "Requirement already satisfied: google-auth>=1.0.1 in /Users/prashantheleshala/anaconda3/lib/python3.11/site-packages (from kubernetes<30.0.0,>=24.2.0->prefect) (2.23.3)\n",
      "Requirement already satisfied: oauthlib>=3.2.2 in /Users/prashantheleshala/anaconda3/lib/python3.11/site-packages (from kubernetes<30.0.0,>=24.2.0->prefect) (3.2.2)\n",
      "Requirement already satisfied: pytzdata>=2020.1 in /Users/prashantheleshala/anaconda3/lib/python3.11/site-packages (from pendulum<3.0->prefect) (2020.1)\n",
      "Requirement already satisfied: annotated-types>=0.4.0 in /Users/prashantheleshala/anaconda3/lib/python3.11/site-packages (from pydantic[email]!=2.0.0,!=2.0.1,!=2.1.0,<3.0.0,>=1.10.0->prefect) (0.6.0)\n",
      "Requirement already satisfied: pydantic-core==2.16.3 in /Users/prashantheleshala/anaconda3/lib/python3.11/site-packages (from pydantic[email]!=2.0.0,!=2.0.1,!=2.1.0,<3.0.0,>=1.10.0->prefect) (2.16.3)\n",
      "Requirement already satisfied: email-validator>=2.0.0 in /Users/prashantheleshala/anaconda3/lib/python3.11/site-packages (from pydantic[email]!=2.0.0,!=2.0.1,!=2.1.0,<3.0.0,>=1.10.0->prefect) (2.1.1)\n",
      "Requirement already satisfied: text-unidecode>=1.3 in /Users/prashantheleshala/anaconda3/lib/python3.11/site-packages (from python-slugify<9.0,>=5.0->prefect) (1.3)\n",
      "Requirement already satisfied: setuptools>=41.0 in /Users/prashantheleshala/anaconda3/lib/python3.11/site-packages (from readchar<5.0.0,>=4.0.0->prefect) (68.0.0)\n",
      "Requirement already satisfied: markdown-it-py>=2.2.0 in /Users/prashantheleshala/anaconda3/lib/python3.11/site-packages (from rich<14.0,>=11.0->prefect) (2.2.0)\n",
      "Requirement already satisfied: pygments<3.0.0,>=2.13.0 in /Users/prashantheleshala/anaconda3/lib/python3.11/site-packages (from rich<14.0,>=11.0->prefect) (2.15.1)\n",
      "Requirement already satisfied: greenlet!=0.4.17 in /Users/prashantheleshala/anaconda3/lib/python3.11/site-packages (from sqlalchemy[asyncio]!=1.4.33,<3.0.0,>=1.4.22->prefect) (2.0.1)\n",
      "Requirement already satisfied: pycparser in /Users/prashantheleshala/anaconda3/lib/python3.11/site-packages (from cffi>=1.12->cryptography>=36.0.1->prefect) (2.21)\n",
      "Requirement already satisfied: dnspython>=2.0.0 in /Users/prashantheleshala/anaconda3/lib/python3.11/site-packages (from email-validator>=2.0.0->pydantic[email]!=2.0.0,!=2.0.1,!=2.1.0,<3.0.0,>=1.10.0->prefect) (2.6.1)\n",
      "Requirement already satisfied: pyasn1-modules>=0.2.1 in /Users/prashantheleshala/anaconda3/lib/python3.11/site-packages (from google-auth>=1.0.1->kubernetes<30.0.0,>=24.2.0->prefect) (0.2.8)\n",
      "Requirement already satisfied: rsa<5,>=3.1.4 in /Users/prashantheleshala/anaconda3/lib/python3.11/site-packages (from google-auth>=1.0.1->kubernetes<30.0.0,>=24.2.0->prefect) (4.9)\n",
      "Requirement already satisfied: hyperframe<7,>=6.0 in /Users/prashantheleshala/anaconda3/lib/python3.11/site-packages (from h2<5,>=3->httpx[http2]!=0.23.2,>=0.23->prefect) (6.0.1)\n",
      "Requirement already satisfied: hpack<5,>=4.0 in /Users/prashantheleshala/anaconda3/lib/python3.11/site-packages (from h2<5,>=3->httpx[http2]!=0.23.2,>=0.23->prefect) (4.0.0)\n",
      "Requirement already satisfied: mdurl~=0.1 in /Users/prashantheleshala/anaconda3/lib/python3.11/site-packages (from markdown-it-py>=2.2.0->rich<14.0,>=11.0->prefect) (0.1.0)\n",
      "Requirement already satisfied: charset-normalizer<4,>=2 in /Users/prashantheleshala/anaconda3/lib/python3.11/site-packages (from requests->apprise<2.0.0,>=1.1.0->prefect) (2.0.4)\n",
      "Requirement already satisfied: pyasn1<0.5.0,>=0.4.6 in /Users/prashantheleshala/anaconda3/lib/python3.11/site-packages (from pyasn1-modules>=0.2.1->google-auth>=1.0.1->kubernetes<30.0.0,>=24.2.0->prefect) (0.4.8)\n",
      "Note: you may need to restart the kernel to use updated packages.\n"
     ]
    }
   ],
   "source": [
    "pip install prefect"
   ]
  },
  {
   "cell_type": "code",
   "execution_count": 11,
   "id": "c18f2954",
   "metadata": {},
   "outputs": [],
   "source": [
    "from prefect import task, flow"
   ]
  },
  {
   "cell_type": "code",
   "execution_count": 22,
   "id": "d3aef414",
   "metadata": {},
   "outputs": [],
   "source": [
    "@task\n",
    "def load_data(file_path):\n",
    "    \"\"\"\n",
    "    Load data from a CSV file.\n",
    "    \"\"\"\n",
    "    df = pd.read_csv(file_path)\n",
    "    df['label'] = df['Ratings'].apply(lambda x: 'negative' if x <= 2 else 'positive')\n",
    "    return df\n",
    "\n",
    "@task\n",
    "def split_inputs_output(data, inputs, output):\n",
    "    \"\"\"\n",
    "    Split features and target variables.\n",
    "    \"\"\"\n",
    "    X = data[inputs]\n",
    "    y = data[output]\n",
    "    return X, y\n",
    "\n",
    "@task\n",
    "def split_train_test(X, y, test_size=0.25, random_state=0):\n",
    "    \"\"\"\n",
    "    Split data into train and test sets.\n",
    "    \"\"\"\n",
    "    return train_test_split(X, y, test_size=test_size, random_state=random_state)\n",
    "\n",
    "@task\n",
    "def preprocess_data(X_train, X_test):\n",
    "    \"\"\"\n",
    "    Preprocess the text data and transform it into numerical using CountVectorizer.\n",
    "    \"\"\"\n",
    "    def preprocess_text(text):\n",
    "        if isinstance(text, str):\n",
    "            # removes special characters\n",
    "            text = re.sub(\"[^a-zA-Z]\",\" \", text)\n",
    "            \n",
    "            # converts words to lowercase\n",
    "            text = text.lower()\n",
    "            \n",
    "            # tokenization\n",
    "            text = text.split()\n",
    "            \n",
    "            # removes the stop words\n",
    "            text = [word for word in text if word not in stopwords.words('english')]\n",
    "            \n",
    "            # applying lemmatization\n",
    "            text = [lemma.lemmatize(word) for word in text]\n",
    "            \n",
    "            return \" \".join(text)\n",
    "        else:\n",
    "            return \"\"  # Replace non-string values with an empty string\n",
    "    \n",
    "    # Preprocess training data\n",
    "    X_train_preprocessed = [preprocess_text(text) for text in X_train]\n",
    "    \n",
    "    # Preprocess testing data\n",
    "    X_test_preprocessed = [preprocess_text(text) for text in X_test]\n",
    "    \n",
    "    # Transform text data into numerical using CountVectorizer\n",
    "    cv = CountVectorizer()\n",
    "    X_train_vectorized = cv.fit_transform(X_train_preprocessed)\n",
    "    X_test_vectorized = cv.transform(X_test_preprocessed)\n",
    "    \n",
    "    return X_train_vectorized, X_test_vectorized\n",
    "\n",
    "\n",
    "@task\n",
    "def train_model(X_train_vectorized, y_train):\n",
    "    \"\"\"\n",
    "    Train the machine learning model.\n",
    "    \"\"\"\n",
    "    nv_model =  MultinomialNB()\n",
    "    nv_model.fit(X_train_vectorized, y_train)\n",
    "    return nv_model\n",
    "\n",
    "@task\n",
    "def evaluate_model(model, X_train_vectorized, y_train,X_test_vectorized , y_test):\n",
    "    \"\"\"\n",
    "    Evaluating the model.\n",
    "    \n",
    "    \"\"\"\n",
    "    from sklearn import metrics\n",
    "    y_train_pred = model.predict(X_train_vectorized)\n",
    "    y_test_pred = model.predict(X_test_vectorized)\n",
    "\n",
    "    train_score = metrics.accuracy_score(y_train, y_train_pred)\n",
    "    test_score = metrics.accuracy_score(y_test, y_test_pred)\n",
    "    \n",
    "    return train_score, test_score"
   ]
  },
  {
   "cell_type": "code",
   "execution_count": 25,
   "id": "51ed11e7",
   "metadata": {},
   "outputs": [
    {
     "name": "stderr",
     "output_type": "stream",
     "text": [
      "/Users/prashantheleshala/anaconda3/lib/python3.11/site-packages/prefect/flows.py:357: UserWarning: A flow named 'Naive_bayes_model_development' and defined at '/var/folders/kw/ny9zsgd901d6kgbrsz52jj7h0000gn/T/ipykernel_8037/25305068.py:1' conflicts with another flow. Consider specifying a unique `name` parameter in the flow definition:\n",
      "\n",
      " `@flow(name='my_unique_name', ...)`\n",
      "  warnings.warn(\n"
     ]
    }
   ],
   "source": [
    "@flow(name=\"Naive_bayes_model_development\")\n",
    "def workflow(data_path):\n",
    "    DATA_PATH = \"data.csv\"\n",
    "\n",
    "    # Load data\n",
    "    df = load_data(DATA_PATH)\n",
    "    \n",
    "    # Identify Inputs and Output\n",
    "    X, y = split_inputs_output(df, \"Review text\", \"label\")\n",
    "\n",
    "    # Split data into train and test sets\n",
    "    X_train, X_test, y_train, y_test = split_train_test(X, y)\n",
    "\n",
    "    # Preprocess the data and transform it into numerical using CountVectorizer\n",
    "    X_train_vectorized, X_test_vectorized= preprocess_data(X_train, X_test)\n",
    "    \n",
    "    # Build a model\n",
    "    model = train_model(X_train_vectorized, y_train)\n",
    "    \n",
    "    # Evaluation\n",
    "    train_score, test_score = evaluate_model(model, X_train_vectorized, y_train, X_test_vectorized, y_test)\n",
    "    \n",
    "    print(\"Train Score:\", train_score)\n",
    "    print(\"Test Score:\", test_score)"
   ]
  },
  {
   "cell_type": "code",
   "execution_count": 26,
   "id": "1f8425ec",
   "metadata": {},
   "outputs": [
    {
     "data": {
      "text/html": [
       "<pre style=\"white-space:pre;overflow-x:auto;line-height:normal;font-family:Menlo,'DejaVu Sans Mono',consolas,'Courier New',monospace\">14:26:48.009 | <span style=\"color: #008080; text-decoration-color: #008080\">INFO</span>    | prefect.engine - Created flow run<span style=\"color: #800080; text-decoration-color: #800080\"> 'attractive-capuchin'</span> for flow<span style=\"color: #800080; text-decoration-color: #800080; font-weight: bold\"> 'Naive_bayes_model_development'</span>\n",
       "</pre>\n"
      ],
      "text/plain": [
       "14:26:48.009 | \u001b[36mINFO\u001b[0m    | prefect.engine - Created flow run\u001b[35m 'attractive-capuchin'\u001b[0m for flow\u001b[1;35m 'Naive_bayes_model_development'\u001b[0m\n"
      ]
     },
     "metadata": {},
     "output_type": "display_data"
    },
    {
     "data": {
      "text/html": [
       "<pre style=\"white-space:pre;overflow-x:auto;line-height:normal;font-family:Menlo,'DejaVu Sans Mono',consolas,'Courier New',monospace\">14:26:48.066 | <span style=\"color: #008080; text-decoration-color: #008080\">INFO</span>    | Flow run<span style=\"color: #800080; text-decoration-color: #800080\"> 'attractive-capuchin'</span> - Created task run 'load_data-0' for task 'load_data'\n",
       "</pre>\n"
      ],
      "text/plain": [
       "14:26:48.066 | \u001b[36mINFO\u001b[0m    | Flow run\u001b[35m 'attractive-capuchin'\u001b[0m - Created task run 'load_data-0' for task 'load_data'\n"
      ]
     },
     "metadata": {},
     "output_type": "display_data"
    },
    {
     "data": {
      "text/html": [
       "<pre style=\"white-space:pre;overflow-x:auto;line-height:normal;font-family:Menlo,'DejaVu Sans Mono',consolas,'Courier New',monospace\">14:26:48.067 | <span style=\"color: #008080; text-decoration-color: #008080\">INFO</span>    | Flow run<span style=\"color: #800080; text-decoration-color: #800080\"> 'attractive-capuchin'</span> - Executing 'load_data-0' immediately...\n",
       "</pre>\n"
      ],
      "text/plain": [
       "14:26:48.067 | \u001b[36mINFO\u001b[0m    | Flow run\u001b[35m 'attractive-capuchin'\u001b[0m - Executing 'load_data-0' immediately...\n"
      ]
     },
     "metadata": {},
     "output_type": "display_data"
    },
    {
     "data": {
      "text/html": [
       "<pre style=\"white-space:pre;overflow-x:auto;line-height:normal;font-family:Menlo,'DejaVu Sans Mono',consolas,'Courier New',monospace\">14:26:48.143 | <span style=\"color: #008080; text-decoration-color: #008080\">INFO</span>    | Task run 'load_data-0' - Finished in state <span style=\"color: #008000; text-decoration-color: #008000\">Completed</span>()\n",
       "</pre>\n"
      ],
      "text/plain": [
       "14:26:48.143 | \u001b[36mINFO\u001b[0m    | Task run 'load_data-0' - Finished in state \u001b[32mCompleted\u001b[0m()\n"
      ]
     },
     "metadata": {},
     "output_type": "display_data"
    },
    {
     "data": {
      "text/html": [
       "<pre style=\"white-space:pre;overflow-x:auto;line-height:normal;font-family:Menlo,'DejaVu Sans Mono',consolas,'Courier New',monospace\">14:26:48.162 | <span style=\"color: #008080; text-decoration-color: #008080\">INFO</span>    | Flow run<span style=\"color: #800080; text-decoration-color: #800080\"> 'attractive-capuchin'</span> - Created task run 'split_inputs_output-0' for task 'split_inputs_output'\n",
       "</pre>\n"
      ],
      "text/plain": [
       "14:26:48.162 | \u001b[36mINFO\u001b[0m    | Flow run\u001b[35m 'attractive-capuchin'\u001b[0m - Created task run 'split_inputs_output-0' for task 'split_inputs_output'\n"
      ]
     },
     "metadata": {},
     "output_type": "display_data"
    },
    {
     "data": {
      "text/html": [
       "<pre style=\"white-space:pre;overflow-x:auto;line-height:normal;font-family:Menlo,'DejaVu Sans Mono',consolas,'Courier New',monospace\">14:26:48.163 | <span style=\"color: #008080; text-decoration-color: #008080\">INFO</span>    | Flow run<span style=\"color: #800080; text-decoration-color: #800080\"> 'attractive-capuchin'</span> - Executing 'split_inputs_output-0' immediately...\n",
       "</pre>\n"
      ],
      "text/plain": [
       "14:26:48.163 | \u001b[36mINFO\u001b[0m    | Flow run\u001b[35m 'attractive-capuchin'\u001b[0m - Executing 'split_inputs_output-0' immediately...\n"
      ]
     },
     "metadata": {},
     "output_type": "display_data"
    },
    {
     "data": {
      "text/html": [
       "<pre style=\"white-space:pre;overflow-x:auto;line-height:normal;font-family:Menlo,'DejaVu Sans Mono',consolas,'Courier New',monospace\">14:26:48.214 | <span style=\"color: #008080; text-decoration-color: #008080\">INFO</span>    | Task run 'split_inputs_output-0' - Finished in state <span style=\"color: #008000; text-decoration-color: #008000\">Completed</span>()\n",
       "</pre>\n"
      ],
      "text/plain": [
       "14:26:48.214 | \u001b[36mINFO\u001b[0m    | Task run 'split_inputs_output-0' - Finished in state \u001b[32mCompleted\u001b[0m()\n"
      ]
     },
     "metadata": {},
     "output_type": "display_data"
    },
    {
     "data": {
      "text/html": [
       "<pre style=\"white-space:pre;overflow-x:auto;line-height:normal;font-family:Menlo,'DejaVu Sans Mono',consolas,'Courier New',monospace\">14:26:48.239 | <span style=\"color: #008080; text-decoration-color: #008080\">INFO</span>    | Flow run<span style=\"color: #800080; text-decoration-color: #800080\"> 'attractive-capuchin'</span> - Created task run 'split_train_test-0' for task 'split_train_test'\n",
       "</pre>\n"
      ],
      "text/plain": [
       "14:26:48.239 | \u001b[36mINFO\u001b[0m    | Flow run\u001b[35m 'attractive-capuchin'\u001b[0m - Created task run 'split_train_test-0' for task 'split_train_test'\n"
      ]
     },
     "metadata": {},
     "output_type": "display_data"
    },
    {
     "data": {
      "text/html": [
       "<pre style=\"white-space:pre;overflow-x:auto;line-height:normal;font-family:Menlo,'DejaVu Sans Mono',consolas,'Courier New',monospace\">14:26:48.240 | <span style=\"color: #008080; text-decoration-color: #008080\">INFO</span>    | Flow run<span style=\"color: #800080; text-decoration-color: #800080\"> 'attractive-capuchin'</span> - Executing 'split_train_test-0' immediately...\n",
       "</pre>\n"
      ],
      "text/plain": [
       "14:26:48.240 | \u001b[36mINFO\u001b[0m    | Flow run\u001b[35m 'attractive-capuchin'\u001b[0m - Executing 'split_train_test-0' immediately...\n"
      ]
     },
     "metadata": {},
     "output_type": "display_data"
    },
    {
     "data": {
      "text/html": [
       "<pre style=\"white-space:pre;overflow-x:auto;line-height:normal;font-family:Menlo,'DejaVu Sans Mono',consolas,'Courier New',monospace\">14:26:48.296 | <span style=\"color: #008080; text-decoration-color: #008080\">INFO</span>    | Task run 'split_train_test-0' - Finished in state <span style=\"color: #008000; text-decoration-color: #008000\">Completed</span>()\n",
       "</pre>\n"
      ],
      "text/plain": [
       "14:26:48.296 | \u001b[36mINFO\u001b[0m    | Task run 'split_train_test-0' - Finished in state \u001b[32mCompleted\u001b[0m()\n"
      ]
     },
     "metadata": {},
     "output_type": "display_data"
    },
    {
     "data": {
      "text/html": [
       "<pre style=\"white-space:pre;overflow-x:auto;line-height:normal;font-family:Menlo,'DejaVu Sans Mono',consolas,'Courier New',monospace\">14:26:48.315 | <span style=\"color: #008080; text-decoration-color: #008080\">INFO</span>    | Flow run<span style=\"color: #800080; text-decoration-color: #800080\"> 'attractive-capuchin'</span> - Created task run 'preprocess_data-0' for task 'preprocess_data'\n",
       "</pre>\n"
      ],
      "text/plain": [
       "14:26:48.315 | \u001b[36mINFO\u001b[0m    | Flow run\u001b[35m 'attractive-capuchin'\u001b[0m - Created task run 'preprocess_data-0' for task 'preprocess_data'\n"
      ]
     },
     "metadata": {},
     "output_type": "display_data"
    },
    {
     "data": {
      "text/html": [
       "<pre style=\"white-space:pre;overflow-x:auto;line-height:normal;font-family:Menlo,'DejaVu Sans Mono',consolas,'Courier New',monospace\">14:26:48.316 | <span style=\"color: #008080; text-decoration-color: #008080\">INFO</span>    | Flow run<span style=\"color: #800080; text-decoration-color: #800080\"> 'attractive-capuchin'</span> - Executing 'preprocess_data-0' immediately...\n",
       "</pre>\n"
      ],
      "text/plain": [
       "14:26:48.316 | \u001b[36mINFO\u001b[0m    | Flow run\u001b[35m 'attractive-capuchin'\u001b[0m - Executing 'preprocess_data-0' immediately...\n"
      ]
     },
     "metadata": {},
     "output_type": "display_data"
    },
    {
     "data": {
      "text/html": [
       "<pre style=\"white-space:pre;overflow-x:auto;line-height:normal;font-family:Menlo,'DejaVu Sans Mono',consolas,'Courier New',monospace\">14:26:51.830 | <span style=\"color: #008080; text-decoration-color: #008080\">INFO</span>    | Task run 'preprocess_data-0' - Finished in state <span style=\"color: #008000; text-decoration-color: #008000\">Completed</span>()\n",
       "</pre>\n"
      ],
      "text/plain": [
       "14:26:51.830 | \u001b[36mINFO\u001b[0m    | Task run 'preprocess_data-0' - Finished in state \u001b[32mCompleted\u001b[0m()\n"
      ]
     },
     "metadata": {},
     "output_type": "display_data"
    },
    {
     "data": {
      "text/html": [
       "<pre style=\"white-space:pre;overflow-x:auto;line-height:normal;font-family:Menlo,'DejaVu Sans Mono',consolas,'Courier New',monospace\">14:26:51.850 | <span style=\"color: #008080; text-decoration-color: #008080\">INFO</span>    | Flow run<span style=\"color: #800080; text-decoration-color: #800080\"> 'attractive-capuchin'</span> - Created task run 'train_model-0' for task 'train_model'\n",
       "</pre>\n"
      ],
      "text/plain": [
       "14:26:51.850 | \u001b[36mINFO\u001b[0m    | Flow run\u001b[35m 'attractive-capuchin'\u001b[0m - Created task run 'train_model-0' for task 'train_model'\n"
      ]
     },
     "metadata": {},
     "output_type": "display_data"
    },
    {
     "data": {
      "text/html": [
       "<pre style=\"white-space:pre;overflow-x:auto;line-height:normal;font-family:Menlo,'DejaVu Sans Mono',consolas,'Courier New',monospace\">14:26:51.851 | <span style=\"color: #008080; text-decoration-color: #008080\">INFO</span>    | Flow run<span style=\"color: #800080; text-decoration-color: #800080\"> 'attractive-capuchin'</span> - Executing 'train_model-0' immediately...\n",
       "</pre>\n"
      ],
      "text/plain": [
       "14:26:51.851 | \u001b[36mINFO\u001b[0m    | Flow run\u001b[35m 'attractive-capuchin'\u001b[0m - Executing 'train_model-0' immediately...\n"
      ]
     },
     "metadata": {},
     "output_type": "display_data"
    },
    {
     "data": {
      "text/html": [
       "<pre style=\"white-space:pre;overflow-x:auto;line-height:normal;font-family:Menlo,'DejaVu Sans Mono',consolas,'Courier New',monospace\">14:26:51.913 | <span style=\"color: #008080; text-decoration-color: #008080\">INFO</span>    | Task run 'train_model-0' - Finished in state <span style=\"color: #008000; text-decoration-color: #008000\">Completed</span>()\n",
       "</pre>\n"
      ],
      "text/plain": [
       "14:26:51.913 | \u001b[36mINFO\u001b[0m    | Task run 'train_model-0' - Finished in state \u001b[32mCompleted\u001b[0m()\n"
      ]
     },
     "metadata": {},
     "output_type": "display_data"
    },
    {
     "data": {
      "text/html": [
       "<pre style=\"white-space:pre;overflow-x:auto;line-height:normal;font-family:Menlo,'DejaVu Sans Mono',consolas,'Courier New',monospace\">14:26:51.934 | <span style=\"color: #008080; text-decoration-color: #008080\">INFO</span>    | Flow run<span style=\"color: #800080; text-decoration-color: #800080\"> 'attractive-capuchin'</span> - Created task run 'evaluate_model-0' for task 'evaluate_model'\n",
       "</pre>\n"
      ],
      "text/plain": [
       "14:26:51.934 | \u001b[36mINFO\u001b[0m    | Flow run\u001b[35m 'attractive-capuchin'\u001b[0m - Created task run 'evaluate_model-0' for task 'evaluate_model'\n"
      ]
     },
     "metadata": {},
     "output_type": "display_data"
    },
    {
     "data": {
      "text/html": [
       "<pre style=\"white-space:pre;overflow-x:auto;line-height:normal;font-family:Menlo,'DejaVu Sans Mono',consolas,'Courier New',monospace\">14:26:51.935 | <span style=\"color: #008080; text-decoration-color: #008080\">INFO</span>    | Flow run<span style=\"color: #800080; text-decoration-color: #800080\"> 'attractive-capuchin'</span> - Executing 'evaluate_model-0' immediately...\n",
       "</pre>\n"
      ],
      "text/plain": [
       "14:26:51.935 | \u001b[36mINFO\u001b[0m    | Flow run\u001b[35m 'attractive-capuchin'\u001b[0m - Executing 'evaluate_model-0' immediately...\n"
      ]
     },
     "metadata": {},
     "output_type": "display_data"
    },
    {
     "data": {
      "text/html": [
       "<pre style=\"white-space:pre;overflow-x:auto;line-height:normal;font-family:Menlo,'DejaVu Sans Mono',consolas,'Courier New',monospace\">14:26:52.000 | <span style=\"color: #008080; text-decoration-color: #008080\">INFO</span>    | Task run 'evaluate_model-0' - Finished in state <span style=\"color: #008000; text-decoration-color: #008000\">Completed</span>()\n",
       "</pre>\n"
      ],
      "text/plain": [
       "14:26:52.000 | \u001b[36mINFO\u001b[0m    | Task run 'evaluate_model-0' - Finished in state \u001b[32mCompleted\u001b[0m()\n"
      ]
     },
     "metadata": {},
     "output_type": "display_data"
    },
    {
     "name": "stdout",
     "output_type": "stream",
     "text": [
      "Train Score: 0.9365998747651847\n",
      "Test Score: 0.9183098591549296\n"
     ]
    },
    {
     "data": {
      "text/html": [
       "<pre style=\"white-space:pre;overflow-x:auto;line-height:normal;font-family:Menlo,'DejaVu Sans Mono',consolas,'Courier New',monospace\">14:26:52.024 | <span style=\"color: #008080; text-decoration-color: #008080\">INFO</span>    | Flow run<span style=\"color: #800080; text-decoration-color: #800080\"> 'attractive-capuchin'</span> - Finished in state <span style=\"color: #008000; text-decoration-color: #008000\">Completed</span>('All states completed.')\n",
       "</pre>\n"
      ],
      "text/plain": [
       "14:26:52.024 | \u001b[36mINFO\u001b[0m    | Flow run\u001b[35m 'attractive-capuchin'\u001b[0m - Finished in state \u001b[32mCompleted\u001b[0m('All states completed.')\n"
      ]
     },
     "metadata": {},
     "output_type": "display_data"
    }
   ],
   "source": [
    "if __name__ == \"__main__\":\n",
    "    data_path = \"data.csv\"  # Path to your data file\n",
    "    workflow(data_path)\n"
   ]
  },
  {
   "cell_type": "code",
   "execution_count": 27,
   "id": "6383ac30",
   "metadata": {},
   "outputs": [
    {
     "name": "stderr",
     "output_type": "stream",
     "text": [
      "/var/folders/kw/ny9zsgd901d6kgbrsz52jj7h0000gn/T/ipykernel_8037/2197572063.py:2: RuntimeWarning: coroutine 'Flow.serve' was never awaited\n",
      "  workflow.serve(\n",
      "RuntimeWarning: Enable tracemalloc to get the object allocation traceback\n"
     ]
    }
   ],
   "source": [
    "if __name__ == \"__main__\":\n",
    "    workflow.serve(\n",
    "        name=\"model_prefect_integration\",\n",
    "        cron=\"* * * * *\"\n",
    "    )"
   ]
  }
 ],
 "metadata": {
  "kernelspec": {
   "display_name": "Python 3 (ipykernel)",
   "language": "python",
   "name": "python3"
  },
  "language_info": {
   "codemirror_mode": {
    "name": "ipython",
    "version": 3
   },
   "file_extension": ".py",
   "mimetype": "text/x-python",
   "name": "python",
   "nbconvert_exporter": "python",
   "pygments_lexer": "ipython3",
   "version": "3.11.4"
  }
 },
 "nbformat": 4,
 "nbformat_minor": 5
}
